{
  "cells": [
    {
      "cell_type": "markdown",
      "metadata": {
        "id": "view-in-github",
        "colab_type": "text"
      },
      "source": [
        "<a href=\"https://colab.research.google.com/github/UlrikeDetective/Data-Science-For-Beginners/blob/main/assignment.ipynb\" target=\"_parent\"><img src=\"https://colab.research.google.com/assets/colab-badge.svg\" alt=\"Open In Colab\"/></a>"
      ]
    },
    {
      "cell_type": "markdown",
      "source": [
        "## Introduction to Probability and Statistics\n",
        "## Assignment\n",
        "\n",
        "In this assignment, we will use the dataset of diabetes patients taken [from here](https://www4.stat.ncsu.edu/~boos/var.select/diabetes.html)."
      ],
      "metadata": {
        "id": "--oIY2Fjyn_w"
      }
    },
    {
      "cell_type": "code",
      "source": [
        "from google.colab import drive\n",
        "drive.mount('/content/drive')\n"
      ],
      "metadata": {
        "colab": {
          "base_uri": "https://localhost:8080/"
        },
        "id": "ldD87s892L40",
        "outputId": "9dde3a2e-8caf-466a-d9c6-4c0464fe2a1f"
      },
      "execution_count": 6,
      "outputs": [
        {
          "output_type": "stream",
          "name": "stdout",
          "text": [
            "Mounted at /content/drive\n"
          ]
        }
      ]
    },
    {
      "cell_type": "code",
      "source": [
        "%cd /content/drive/My Drive/Data Analytics\n"
      ],
      "metadata": {
        "colab": {
          "base_uri": "https://localhost:8080/"
        },
        "id": "QlTifRz32Xfp",
        "outputId": "5ecf830e-2d16-4e34-bd7a-1993e38aa1f5"
      },
      "execution_count": 7,
      "outputs": [
        {
          "output_type": "stream",
          "name": "stdout",
          "text": [
            "/content/drive/My Drive/Data Analytics\n"
          ]
        }
      ]
    },
    {
      "cell_type": "code",
      "source": [
        "import pandas as pd\n",
        "\n",
        "df = pd.read_csv('diabetes.tsv', sep='\\t')\n"
      ],
      "metadata": {
        "id": "lgl17lht2pi1"
      },
      "execution_count": 8,
      "outputs": []
    },
    {
      "cell_type": "code",
      "execution_count": 9,
      "source": [
        "import numpy as np\n",
        "\n",
        "df.head()"
      ],
      "outputs": [
        {
          "output_type": "execute_result",
          "data": {
            "text/plain": [
              "   AGE  SEX   BMI     BP   S1     S2    S3   S4      S5  S6    Y\n",
              "0   59    2  32.1  101.0  157   93.2  38.0  4.0  4.8598  87  151\n",
              "1   48    1  21.6   87.0  183  103.2  70.0  3.0  3.8918  69   75\n",
              "2   72    2  30.5   93.0  156   93.6  41.0  4.0  4.6728  85  141\n",
              "3   24    1  25.3   84.0  198  131.4  40.0  5.0  4.8903  89  206\n",
              "4   50    1  23.0  101.0  192  125.4  52.0  4.0  4.2905  80  135"
            ],
            "text/html": [
              "\n",
              "  <div id=\"df-312655a0-1589-4c05-91b7-b7662507dd4b\" class=\"colab-df-container\">\n",
              "    <div>\n",
              "<style scoped>\n",
              "    .dataframe tbody tr th:only-of-type {\n",
              "        vertical-align: middle;\n",
              "    }\n",
              "\n",
              "    .dataframe tbody tr th {\n",
              "        vertical-align: top;\n",
              "    }\n",
              "\n",
              "    .dataframe thead th {\n",
              "        text-align: right;\n",
              "    }\n",
              "</style>\n",
              "<table border=\"1\" class=\"dataframe\">\n",
              "  <thead>\n",
              "    <tr style=\"text-align: right;\">\n",
              "      <th></th>\n",
              "      <th>AGE</th>\n",
              "      <th>SEX</th>\n",
              "      <th>BMI</th>\n",
              "      <th>BP</th>\n",
              "      <th>S1</th>\n",
              "      <th>S2</th>\n",
              "      <th>S3</th>\n",
              "      <th>S4</th>\n",
              "      <th>S5</th>\n",
              "      <th>S6</th>\n",
              "      <th>Y</th>\n",
              "    </tr>\n",
              "  </thead>\n",
              "  <tbody>\n",
              "    <tr>\n",
              "      <th>0</th>\n",
              "      <td>59</td>\n",
              "      <td>2</td>\n",
              "      <td>32.1</td>\n",
              "      <td>101.0</td>\n",
              "      <td>157</td>\n",
              "      <td>93.2</td>\n",
              "      <td>38.0</td>\n",
              "      <td>4.0</td>\n",
              "      <td>4.8598</td>\n",
              "      <td>87</td>\n",
              "      <td>151</td>\n",
              "    </tr>\n",
              "    <tr>\n",
              "      <th>1</th>\n",
              "      <td>48</td>\n",
              "      <td>1</td>\n",
              "      <td>21.6</td>\n",
              "      <td>87.0</td>\n",
              "      <td>183</td>\n",
              "      <td>103.2</td>\n",
              "      <td>70.0</td>\n",
              "      <td>3.0</td>\n",
              "      <td>3.8918</td>\n",
              "      <td>69</td>\n",
              "      <td>75</td>\n",
              "    </tr>\n",
              "    <tr>\n",
              "      <th>2</th>\n",
              "      <td>72</td>\n",
              "      <td>2</td>\n",
              "      <td>30.5</td>\n",
              "      <td>93.0</td>\n",
              "      <td>156</td>\n",
              "      <td>93.6</td>\n",
              "      <td>41.0</td>\n",
              "      <td>4.0</td>\n",
              "      <td>4.6728</td>\n",
              "      <td>85</td>\n",
              "      <td>141</td>\n",
              "    </tr>\n",
              "    <tr>\n",
              "      <th>3</th>\n",
              "      <td>24</td>\n",
              "      <td>1</td>\n",
              "      <td>25.3</td>\n",
              "      <td>84.0</td>\n",
              "      <td>198</td>\n",
              "      <td>131.4</td>\n",
              "      <td>40.0</td>\n",
              "      <td>5.0</td>\n",
              "      <td>4.8903</td>\n",
              "      <td>89</td>\n",
              "      <td>206</td>\n",
              "    </tr>\n",
              "    <tr>\n",
              "      <th>4</th>\n",
              "      <td>50</td>\n",
              "      <td>1</td>\n",
              "      <td>23.0</td>\n",
              "      <td>101.0</td>\n",
              "      <td>192</td>\n",
              "      <td>125.4</td>\n",
              "      <td>52.0</td>\n",
              "      <td>4.0</td>\n",
              "      <td>4.2905</td>\n",
              "      <td>80</td>\n",
              "      <td>135</td>\n",
              "    </tr>\n",
              "  </tbody>\n",
              "</table>\n",
              "</div>\n",
              "    <div class=\"colab-df-buttons\">\n",
              "\n",
              "  <div class=\"colab-df-container\">\n",
              "    <button class=\"colab-df-convert\" onclick=\"convertToInteractive('df-312655a0-1589-4c05-91b7-b7662507dd4b')\"\n",
              "            title=\"Convert this dataframe to an interactive table.\"\n",
              "            style=\"display:none;\">\n",
              "\n",
              "  <svg xmlns=\"http://www.w3.org/2000/svg\" height=\"24px\" viewBox=\"0 -960 960 960\">\n",
              "    <path d=\"M120-120v-720h720v720H120Zm60-500h600v-160H180v160Zm220 220h160v-160H400v160Zm0 220h160v-160H400v160ZM180-400h160v-160H180v160Zm440 0h160v-160H620v160ZM180-180h160v-160H180v160Zm440 0h160v-160H620v160Z\"/>\n",
              "  </svg>\n",
              "    </button>\n",
              "\n",
              "  <style>\n",
              "    .colab-df-container {\n",
              "      display:flex;\n",
              "      gap: 12px;\n",
              "    }\n",
              "\n",
              "    .colab-df-convert {\n",
              "      background-color: #E8F0FE;\n",
              "      border: none;\n",
              "      border-radius: 50%;\n",
              "      cursor: pointer;\n",
              "      display: none;\n",
              "      fill: #1967D2;\n",
              "      height: 32px;\n",
              "      padding: 0 0 0 0;\n",
              "      width: 32px;\n",
              "    }\n",
              "\n",
              "    .colab-df-convert:hover {\n",
              "      background-color: #E2EBFA;\n",
              "      box-shadow: 0px 1px 2px rgba(60, 64, 67, 0.3), 0px 1px 3px 1px rgba(60, 64, 67, 0.15);\n",
              "      fill: #174EA6;\n",
              "    }\n",
              "\n",
              "    .colab-df-buttons div {\n",
              "      margin-bottom: 4px;\n",
              "    }\n",
              "\n",
              "    [theme=dark] .colab-df-convert {\n",
              "      background-color: #3B4455;\n",
              "      fill: #D2E3FC;\n",
              "    }\n",
              "\n",
              "    [theme=dark] .colab-df-convert:hover {\n",
              "      background-color: #434B5C;\n",
              "      box-shadow: 0px 1px 3px 1px rgba(0, 0, 0, 0.15);\n",
              "      filter: drop-shadow(0px 1px 2px rgba(0, 0, 0, 0.3));\n",
              "      fill: #FFFFFF;\n",
              "    }\n",
              "  </style>\n",
              "\n",
              "    <script>\n",
              "      const buttonEl =\n",
              "        document.querySelector('#df-312655a0-1589-4c05-91b7-b7662507dd4b button.colab-df-convert');\n",
              "      buttonEl.style.display =\n",
              "        google.colab.kernel.accessAllowed ? 'block' : 'none';\n",
              "\n",
              "      async function convertToInteractive(key) {\n",
              "        const element = document.querySelector('#df-312655a0-1589-4c05-91b7-b7662507dd4b');\n",
              "        const dataTable =\n",
              "          await google.colab.kernel.invokeFunction('convertToInteractive',\n",
              "                                                    [key], {});\n",
              "        if (!dataTable) return;\n",
              "\n",
              "        const docLinkHtml = 'Like what you see? Visit the ' +\n",
              "          '<a target=\"_blank\" href=https://colab.research.google.com/notebooks/data_table.ipynb>data table notebook</a>'\n",
              "          + ' to learn more about interactive tables.';\n",
              "        element.innerHTML = '';\n",
              "        dataTable['output_type'] = 'display_data';\n",
              "        await google.colab.output.renderOutput(dataTable, element);\n",
              "        const docLink = document.createElement('div');\n",
              "        docLink.innerHTML = docLinkHtml;\n",
              "        element.appendChild(docLink);\n",
              "      }\n",
              "    </script>\n",
              "  </div>\n",
              "\n",
              "\n",
              "<div id=\"df-f47c5181-e748-437d-a608-ffb61034971a\">\n",
              "  <button class=\"colab-df-quickchart\" onclick=\"quickchart('df-f47c5181-e748-437d-a608-ffb61034971a')\"\n",
              "            title=\"Suggest charts\"\n",
              "            style=\"display:none;\">\n",
              "\n",
              "<svg xmlns=\"http://www.w3.org/2000/svg\" height=\"24px\"viewBox=\"0 0 24 24\"\n",
              "     width=\"24px\">\n",
              "    <g>\n",
              "        <path d=\"M19 3H5c-1.1 0-2 .9-2 2v14c0 1.1.9 2 2 2h14c1.1 0 2-.9 2-2V5c0-1.1-.9-2-2-2zM9 17H7v-7h2v7zm4 0h-2V7h2v10zm4 0h-2v-4h2v4z\"/>\n",
              "    </g>\n",
              "</svg>\n",
              "  </button>\n",
              "\n",
              "<style>\n",
              "  .colab-df-quickchart {\n",
              "      --bg-color: #E8F0FE;\n",
              "      --fill-color: #1967D2;\n",
              "      --hover-bg-color: #E2EBFA;\n",
              "      --hover-fill-color: #174EA6;\n",
              "      --disabled-fill-color: #AAA;\n",
              "      --disabled-bg-color: #DDD;\n",
              "  }\n",
              "\n",
              "  [theme=dark] .colab-df-quickchart {\n",
              "      --bg-color: #3B4455;\n",
              "      --fill-color: #D2E3FC;\n",
              "      --hover-bg-color: #434B5C;\n",
              "      --hover-fill-color: #FFFFFF;\n",
              "      --disabled-bg-color: #3B4455;\n",
              "      --disabled-fill-color: #666;\n",
              "  }\n",
              "\n",
              "  .colab-df-quickchart {\n",
              "    background-color: var(--bg-color);\n",
              "    border: none;\n",
              "    border-radius: 50%;\n",
              "    cursor: pointer;\n",
              "    display: none;\n",
              "    fill: var(--fill-color);\n",
              "    height: 32px;\n",
              "    padding: 0;\n",
              "    width: 32px;\n",
              "  }\n",
              "\n",
              "  .colab-df-quickchart:hover {\n",
              "    background-color: var(--hover-bg-color);\n",
              "    box-shadow: 0 1px 2px rgba(60, 64, 67, 0.3), 0 1px 3px 1px rgba(60, 64, 67, 0.15);\n",
              "    fill: var(--button-hover-fill-color);\n",
              "  }\n",
              "\n",
              "  .colab-df-quickchart-complete:disabled,\n",
              "  .colab-df-quickchart-complete:disabled:hover {\n",
              "    background-color: var(--disabled-bg-color);\n",
              "    fill: var(--disabled-fill-color);\n",
              "    box-shadow: none;\n",
              "  }\n",
              "\n",
              "  .colab-df-spinner {\n",
              "    border: 2px solid var(--fill-color);\n",
              "    border-color: transparent;\n",
              "    border-bottom-color: var(--fill-color);\n",
              "    animation:\n",
              "      spin 1s steps(1) infinite;\n",
              "  }\n",
              "\n",
              "  @keyframes spin {\n",
              "    0% {\n",
              "      border-color: transparent;\n",
              "      border-bottom-color: var(--fill-color);\n",
              "      border-left-color: var(--fill-color);\n",
              "    }\n",
              "    20% {\n",
              "      border-color: transparent;\n",
              "      border-left-color: var(--fill-color);\n",
              "      border-top-color: var(--fill-color);\n",
              "    }\n",
              "    30% {\n",
              "      border-color: transparent;\n",
              "      border-left-color: var(--fill-color);\n",
              "      border-top-color: var(--fill-color);\n",
              "      border-right-color: var(--fill-color);\n",
              "    }\n",
              "    40% {\n",
              "      border-color: transparent;\n",
              "      border-right-color: var(--fill-color);\n",
              "      border-top-color: var(--fill-color);\n",
              "    }\n",
              "    60% {\n",
              "      border-color: transparent;\n",
              "      border-right-color: var(--fill-color);\n",
              "    }\n",
              "    80% {\n",
              "      border-color: transparent;\n",
              "      border-right-color: var(--fill-color);\n",
              "      border-bottom-color: var(--fill-color);\n",
              "    }\n",
              "    90% {\n",
              "      border-color: transparent;\n",
              "      border-bottom-color: var(--fill-color);\n",
              "    }\n",
              "  }\n",
              "</style>\n",
              "\n",
              "  <script>\n",
              "    async function quickchart(key) {\n",
              "      const quickchartButtonEl =\n",
              "        document.querySelector('#' + key + ' button');\n",
              "      quickchartButtonEl.disabled = true;  // To prevent multiple clicks.\n",
              "      quickchartButtonEl.classList.add('colab-df-spinner');\n",
              "      try {\n",
              "        const charts = await google.colab.kernel.invokeFunction(\n",
              "            'suggestCharts', [key], {});\n",
              "      } catch (error) {\n",
              "        console.error('Error during call to suggestCharts:', error);\n",
              "      }\n",
              "      quickchartButtonEl.classList.remove('colab-df-spinner');\n",
              "      quickchartButtonEl.classList.add('colab-df-quickchart-complete');\n",
              "    }\n",
              "    (() => {\n",
              "      let quickchartButtonEl =\n",
              "        document.querySelector('#df-f47c5181-e748-437d-a608-ffb61034971a button');\n",
              "      quickchartButtonEl.style.display =\n",
              "        google.colab.kernel.accessAllowed ? 'block' : 'none';\n",
              "    })();\n",
              "  </script>\n",
              "</div>\n",
              "    </div>\n",
              "  </div>\n"
            ],
            "application/vnd.google.colaboratory.intrinsic+json": {
              "type": "dataframe",
              "variable_name": "df",
              "summary": "{\n  \"name\": \"df\",\n  \"rows\": 442,\n  \"fields\": [\n    {\n      \"column\": \"AGE\",\n      \"properties\": {\n        \"dtype\": \"number\",\n        \"std\": 13,\n        \"min\": 19,\n        \"max\": 79,\n        \"num_unique_values\": 58,\n        \"samples\": [\n          59,\n          23,\n          54\n        ],\n        \"semantic_type\": \"\",\n        \"description\": \"\"\n      }\n    },\n    {\n      \"column\": \"SEX\",\n      \"properties\": {\n        \"dtype\": \"number\",\n        \"std\": 0,\n        \"min\": 1,\n        \"max\": 2,\n        \"num_unique_values\": 2,\n        \"samples\": [\n          1,\n          2\n        ],\n        \"semantic_type\": \"\",\n        \"description\": \"\"\n      }\n    },\n    {\n      \"column\": \"BMI\",\n      \"properties\": {\n        \"dtype\": \"number\",\n        \"std\": 4.4181215606157735,\n        \"min\": 18.0,\n        \"max\": 42.2,\n        \"num_unique_values\": 163,\n        \"samples\": [\n          27.2,\n          21.3\n        ],\n        \"semantic_type\": \"\",\n        \"description\": \"\"\n      }\n    },\n    {\n      \"column\": \"BP\",\n      \"properties\": {\n        \"dtype\": \"number\",\n        \"std\": 13.831283419782999,\n        \"min\": 62.0,\n        \"max\": 133.0,\n        \"num_unique_values\": 100,\n        \"samples\": [\n          104.33,\n          102.0\n        ],\n        \"semantic_type\": \"\",\n        \"description\": \"\"\n      }\n    },\n    {\n      \"column\": \"S1\",\n      \"properties\": {\n        \"dtype\": \"number\",\n        \"std\": 34,\n        \"min\": 97,\n        \"max\": 301,\n        \"num_unique_values\": 141,\n        \"samples\": [\n          219,\n          250\n        ],\n        \"semantic_type\": \"\",\n        \"description\": \"\"\n      }\n    },\n    {\n      \"column\": \"S2\",\n      \"properties\": {\n        \"dtype\": \"number\",\n        \"std\": 30.413080969276546,\n        \"min\": 41.6,\n        \"max\": 242.4,\n        \"num_unique_values\": 302,\n        \"samples\": [\n          162.8,\n          160.2\n        ],\n        \"semantic_type\": \"\",\n        \"description\": \"\"\n      }\n    },\n    {\n      \"column\": \"S3\",\n      \"properties\": {\n        \"dtype\": \"number\",\n        \"std\": 12.934202154863327,\n        \"min\": 22.0,\n        \"max\": 99.0,\n        \"num_unique_values\": 63,\n        \"samples\": [\n          75.0,\n          93.0\n        ],\n        \"semantic_type\": \"\",\n        \"description\": \"\"\n      }\n    },\n    {\n      \"column\": \"S4\",\n      \"properties\": {\n        \"dtype\": \"number\",\n        \"std\": 1.2904498966082774,\n        \"min\": 2.0,\n        \"max\": 9.09,\n        \"num_unique_values\": 66,\n        \"samples\": [\n          6.42,\n          3.4\n        ],\n        \"semantic_type\": \"\",\n        \"description\": \"\"\n      }\n    },\n    {\n      \"column\": \"S5\",\n      \"properties\": {\n        \"dtype\": \"number\",\n        \"std\": 0.5223905610694907,\n        \"min\": 3.2581,\n        \"max\": 6.107,\n        \"num_unique_values\": 184,\n        \"samples\": [\n          3.8501,\n          4.4067\n        ],\n        \"semantic_type\": \"\",\n        \"description\": \"\"\n      }\n    },\n    {\n      \"column\": \"S6\",\n      \"properties\": {\n        \"dtype\": \"number\",\n        \"std\": 11,\n        \"min\": 58,\n        \"max\": 124,\n        \"num_unique_values\": 56,\n        \"samples\": [\n          87,\n          68\n        ],\n        \"semantic_type\": \"\",\n        \"description\": \"\"\n      }\n    },\n    {\n      \"column\": \"Y\",\n      \"properties\": {\n        \"dtype\": \"number\",\n        \"std\": 77,\n        \"min\": 25,\n        \"max\": 346,\n        \"num_unique_values\": 214,\n        \"samples\": [\n          310,\n          140\n        ],\n        \"semantic_type\": \"\",\n        \"description\": \"\"\n      }\n    }\n  ]\n}"
            }
          },
          "metadata": {},
          "execution_count": 9
        }
      ],
      "metadata": {
        "colab": {
          "base_uri": "https://localhost:8080/",
          "height": 206
        },
        "id": "FQSTFxTNyn_z",
        "outputId": "bfd56cf8-4ed9-475f-8e03-05793a9bf84b"
      }
    },
    {
      "cell_type": "markdown",
      "source": [
        "\n",
        "In this dataset, columns as the following:\n",
        "* Age and sex are self-explanatory\n",
        "* BMI is body mass index\n",
        "* BP is average blood pressure\n",
        "* S1 through S6 are different blood measurements\n",
        "* Y is the qualitative measure of disease progression over one year\n",
        "\n",
        "Let's study this dataset using methods of probability and statistics.\n",
        "\n",
        "### Task 1: Compute mean values and variance for all values"
      ],
      "metadata": {
        "id": "Epa_Mb_cyn_1"
      }
    },
    {
      "cell_type": "code",
      "execution_count": 10,
      "source": [
        "# Compute mean values for all columns\n",
        "mean_values = df.mean()\n",
        "\n",
        "# Compute variance for all columns\n",
        "variance_values = df.var()\n",
        "\n",
        "# Print mean values\n",
        "print(\"Mean values:\")\n",
        "print(mean_values)\n",
        "\n",
        "# Print variance values\n",
        "print(\"\\nVariance values:\")\n",
        "print(variance_values)"
      ],
      "outputs": [
        {
          "output_type": "stream",
          "name": "stdout",
          "text": [
            "Mean values:\n",
            "AGE     48.518100\n",
            "SEX      1.468326\n",
            "BMI     26.375792\n",
            "BP      94.647014\n",
            "S1     189.140271\n",
            "S2     115.439140\n",
            "S3      49.788462\n",
            "S4       4.070249\n",
            "S5       4.641411\n",
            "S6      91.260181\n",
            "Y      152.133484\n",
            "dtype: float64\n",
            "\n",
            "Variance values:\n",
            "AGE     171.846610\n",
            "SEX       0.249561\n",
            "BMI      19.519798\n",
            "BP      191.304401\n",
            "S1     1197.717241\n",
            "S2      924.955494\n",
            "S3      167.293585\n",
            "S4        1.665261\n",
            "S5        0.272892\n",
            "S6      132.165712\n",
            "Y      5943.331348\n",
            "dtype: float64\n"
          ]
        }
      ],
      "metadata": {
        "colab": {
          "base_uri": "https://localhost:8080/"
        },
        "id": "4C-m9L4uyn_1",
        "outputId": "f5ca9306-3a68-4abc-d04a-8f93303ce485"
      }
    },
    {
      "cell_type": "markdown",
      "source": [
        "### Task 2: Plot boxplots for BMI, BP and Y depending on gender"
      ],
      "metadata": {
        "id": "-8P-IiV6yn_1"
      }
    },
    {
      "cell_type": "code",
      "execution_count": 13,
      "source": [
        "import seaborn as sns\n",
        "import matplotlib.pyplot as plt\n",
        "\n",
        "# Assuming 'Gender' is the column representing gender in your DataFrame\n",
        "# Replace it with the actual column name if different\n",
        "sns.boxplot(x='SEX', y='BMI', data=df)\n",
        "plt.title('BMI Boxplot by Gender')\n",
        "plt.show()\n",
        "\n",
        "sns.boxplot(x='SEX', y='BP', data=df)\n",
        "plt.title('BP Boxplot by Gender')\n",
        "plt.show()\n",
        "\n",
        "sns.boxplot(x='SEX', y='Y', data=df)\n",
        "plt.title('Y Boxplot by Gender')\n",
        "plt.show()\n"
      ],
      "outputs": [
        {
          "output_type": "display_data",
          "data": {
            "text/plain": [
              "<Figure size 640x480 with 1 Axes>"
            ],
            "image/png": "[encoded data removed]"
          },
          "metadata": {}
        },
        {
          "output_type": "display_data",
          "data": {
            "text/plain": [
              "<Figure size 640x480 with 1 Axes>"
            ],
            "image/png": "[encoded data removed]"
          },
          "metadata": {}
        },
        {
          "output_type": "display_data",
          "data": {
            "text/plain": [
              "<Figure size 640x480 with 1 Axes>"
            ],
            "image/png": "[encoded data removed]"
          },
          "metadata": {}
        }
      ],
      "metadata": {
        "colab": {
          "base_uri": "https://localhost:8080/",
          "height": 1000
        },
        "id": "il_BtnFUyn_2",
        "outputId": "518bd3d8-5433-4e5a-c856-4f0f4a124ad4"
      }
    },
    {
      "cell_type": "markdown",
      "source": [
        "### Task 3: What is the the distribution of Age, Sex, BMI and Y variables?"
      ],
      "metadata": {
        "id": "OZ7UKDs5yn_2"
      }
    },
    {
      "cell_type": "code",
      "execution_count": 14,
      "source": [
        "import seaborn as sns\n",
        "import matplotlib.pyplot as plt\n",
        "\n",
        "# Set up the figure with desired size\n",
        "plt.figure(figsize=(12, 6))\n",
        "\n",
        "# Plot histograms for numerical variables (Age, BMI, Y)\n",
        "plt.subplot(2, 2, 1)\n",
        "sns.histplot(df['AGE'], bins=20, kde=True)\n",
        "plt.title('Distribution of Age')\n",
        "\n",
        "plt.subplot(2, 2, 2)\n",
        "sns.histplot(df['BMI'], bins=20, kde=True)\n",
        "plt.title('Distribution of BMI')\n",
        "\n",
        "plt.subplot(2, 2, 3)\n",
        "sns.histplot(df['Y'], bins=20, kde=True)\n",
        "plt.title('Distribution of Y')\n",
        "\n",
        "# Plot count plot for categorical variable (Sex)\n",
        "plt.subplot(2, 2, 4)\n",
        "sns.countplot(x='SEX', data=df)\n",
        "plt.title('Distribution of Sex')\n",
        "\n",
        "plt.tight_layout()  # Adjust layout to prevent overlap\n",
        "plt.show()\n"
      ],
      "outputs": [
        {
          "output_type": "display_data",
          "data": {
            "text/plain": [
              "<Figure size 1200x600 with 4 Axes>"
            ],
            "image/png": "[encoded data removed]"
          },
          "metadata": {}
        }
      ],
      "metadata": {
        "colab": {
          "base_uri": "https://localhost:8080/",
          "height": 607
        },
        "id": "O55QEyUdyn_2",
        "outputId": "7b8c36a5-db94-4a01-f18c-33a32012931a"
      }
    },
    {
      "cell_type": "markdown",
      "source": [
        "### Task 4: Test the correlation between different variables and disease progression (Y)\n",
        "\n",
        "> **Hint** Correlation matrix would give you the most useful information on which values are dependent."
      ],
      "metadata": {
        "id": "3PG1-RHwyn_2"
      }
    },
    {
      "cell_type": "code",
      "source": [
        "# Calculate Pearson correlation coefficients between all variables and 'Y'\n",
        "correlation_matrix = df.corr()\n",
        "correlation_with_y = correlation_matrix['Y'].drop('Y')  # Drop 'Y' column as it will be correlated with itself (correlation = 1)\n",
        "\n",
        "# Print correlation coefficients\n",
        "print(\"Correlation with Y:\")\n",
        "print(correlation_with_y)\n"
      ],
      "metadata": {
        "colab": {
          "base_uri": "https://localhost:8080/"
        },
        "id": "MKp1910S5IHG",
        "outputId": "d3d0afc5-bb9c-4d75-edb4-18e1eaafa556"
      },
      "execution_count": 15,
      "outputs": [
        {
          "output_type": "stream",
          "name": "stdout",
          "text": [
            "Correlation with Y:\n",
            "AGE    0.187889\n",
            "SEX    0.043062\n",
            "BMI    0.586450\n",
            "BP     0.441482\n",
            "S1     0.212022\n",
            "S2     0.174054\n",
            "S3    -0.394789\n",
            "S4     0.430453\n",
            "S5     0.565883\n",
            "S6     0.382483\n",
            "Name: Y, dtype: float64\n"
          ]
        }
      ]
    },
    {
      "cell_type": "markdown",
      "source": [
        "\n"
      ],
      "metadata": {
        "id": "tdNMyBFSyn_2"
      }
    },
    {
      "cell_type": "code",
      "source": [
        "import numpy as np\n",
        "from scipy.stats import ttest_ind, mannwhitneyu\n"
      ],
      "metadata": {
        "id": "LQjtDD4Y5awC"
      },
      "execution_count": 16,
      "outputs": []
    },
    {
      "cell_type": "markdown",
      "source": [
        "### Task 5: Test the hypothesis that the degree of diabetes progression is different between men and women"
      ],
      "metadata": {
        "id": "QFz7HlsSyn_3"
      }
    },
    {
      "cell_type": "code",
      "source": [
        "# Assuming 'Sex' is the column representing gender in your DataFrame\n",
        "# Replace it with the actual column name if different\n",
        "diabetes_progression_male = df[df['SEX'] == 2]['Y']\n",
        "diabetes_progression_female = df[df['SEX'] == 1]['Y']\n"
      ],
      "metadata": {
        "id": "v6ydpUrg5f1y"
      },
      "execution_count": 17,
      "outputs": []
    },
    {
      "cell_type": "code",
      "source": [
        "t_statistic, p_value = ttest_ind(diabetes_progression_male, diabetes_progression_female)\n",
        "\n",
        "print(\"Independent Samples t-test:\")\n",
        "print(\"t-statistic:\", t_statistic)\n",
        "print(\"p-value:\", p_value)\n",
        "\n",
        "if p_value < 0.05:\n",
        "    print(\"The difference in diabetes progression between men and women is statistically significant.\")\n",
        "else:\n",
        "    print(\"There is no statistically significant difference in diabetes progression between men and women.\")\n"
      ],
      "metadata": {
        "colab": {
          "base_uri": "https://localhost:8080/"
        },
        "id": "5Wenfwpx5uRf",
        "outputId": "1c3baa6f-d5a9-4dec-8860-7d3edf4a3b77"
      },
      "execution_count": 18,
      "outputs": [
        {
          "output_type": "stream",
          "name": "stdout",
          "text": [
            "Independent Samples t-test:\n",
            "t-statistic: 0.9041147550244715\n",
            "p-value: 0.3664292946519826\n",
            "There is no statistically significant difference in diabetes progression between men and women.\n"
          ]
        }
      ]
    },
    {
      "cell_type": "code",
      "source": [
        "u_statistic, p_value = mannwhitneyu(diabetes_progression_male, diabetes_progression_female)\n",
        "\n",
        "print(\"\\nMann-Whitney U test:\")\n",
        "print(\"U-statistic:\", u_statistic)\n",
        "print(\"p-value:\", p_value)\n",
        "\n",
        "if p_value < 0.05:\n",
        "    print(\"The difference in diabetes progression between men and women is statistically significant.\")\n",
        "else:\n",
        "    print(\"There is no statistically significant difference in diabetes progression between men and women.\")\n"
      ],
      "metadata": {
        "colab": {
          "base_uri": "https://localhost:8080/"
        },
        "id": "YCceVuAR53EQ",
        "outputId": "a4e96793-5a90-4871-b612-4afc9b9e7175"
      },
      "execution_count": 19,
      "outputs": [
        {
          "output_type": "stream",
          "name": "stdout",
          "text": [
            "\n",
            "Mann-Whitney U test:\n",
            "U-statistic: 25375.0\n",
            "p-value: 0.432427773770497\n",
            "There is no statistically significant difference in diabetes progression between men and women.\n"
          ]
        }
      ]
    },
    {
      "cell_type": "markdown",
      "source": [],
      "metadata": {
        "id": "SSHIhXJmyn_3"
      }
    }
  ],
  "metadata": {
    "orig_nbformat": 4,
    "language_info": {
      "name": "python",
      "version": "3.8.8",
      "mimetype": "text/x-python",
      "codemirror_mode": {
        "name": "ipython",
        "version": 3
      },
      "pygments_lexer": "ipython3",
      "nbconvert_exporter": "python",
      "file_extension": ".py"
    },
    "kernelspec": {
      "name": "python3",
      "display_name": "Python 3.8.8 64-bit (conda)"
    },
    "interpreter": {
      "hash": "86193a1ab0ba47eac1c69c1756090baa3b420b3eea7d4aafab8b85f8b312f0c5"
    },
    "colab": {
      "provenance": [],
      "include_colab_link": true
    }
  },
  "nbformat": 4,
  "nbformat_minor": 0
}